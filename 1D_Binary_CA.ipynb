{
 "cells": [
  {
   "cell_type": "code",
   "execution_count": 1,
   "metadata": {},
   "outputs": [
    {
     "name": "stdout",
     "output_type": "stream",
     "text": [
      "pygame 1.9.6\n",
      "Hello from the pygame community. https://www.pygame.org/contribute.html\n"
     ]
    }
   ],
   "source": [
    "## import of the needed packages\n",
    "import pygame\n",
    "import numpy as np\n",
    "import time\n",
    "from sys import exit"
   ]
  },
  {
   "cell_type": "code",
   "execution_count": 3,
   "metadata": {},
   "outputs": [
    {
     "ename": "SystemExit",
     "evalue": "",
     "output_type": "error",
     "traceback": [
      "An exception has occurred, use %tb to see the full traceback.\n",
      "\u001b[1;31mSystemExit\u001b[0m\n"
     ]
    },
    {
     "name": "stderr",
     "output_type": "stream",
     "text": [
      "C:\\Users\\juanc\\Anaconda3\\lib\\site-packages\\IPython\\core\\interactiveshell.py:3339: UserWarning: To exit: use 'exit', 'quit', or Ctrl-D.\n",
      "  warn(\"To exit: use 'exit', 'quit', or Ctrl-D.\", stacklevel=1)\n"
     ]
    }
   ],
   "source": [
    "## definition of parameters for the game\n",
    "size = width, height = 1000, 1000\n",
    "bgColor = 25, 25, 25\n",
    "nxCells = 500\n",
    "nyCells = 500\n",
    "dimCellW = (width -1 ) / nxCells\n",
    "dimCellH = (height - 1) / nyCells\n",
    "\n",
    "## body of the code\n",
    "pygame.init()\n",
    "\n",
    "screen = pygame.display.set_mode(size, pygame.RESIZABLE)\n",
    "screen.fill(bgColor)\n",
    "\n",
    "gState = np.zeros((nxCells, nyCells))\n",
    "\n",
    "gState[int(nxCells / 2), 0] = 1\n",
    "\n",
    "pause = False\n",
    "\n",
    "rules = list(np.binary_repr(30, width=8))\n",
    "rules.reverse()\n",
    "\n",
    "for y in range(nyCells):\n",
    "    for x in range(nxCells):\n",
    "        poly = [(x * dimCellW, y * dimCellH),\n",
    "                ((x + 1) * dimCellW, y * dimCellH),\n",
    "                ((x + 1) * dimCellW, (y + 1) * dimCellH),\n",
    "                (x * dimCellW, (y + 1) * dimCellH)]\n",
    "        pygame.draw.polygon(screen, (120, 120, 120), poly, 1)\n",
    "\n",
    "y = 0        \n",
    "\n",
    "while 1:\n",
    "    for event in pygame.event.get():\n",
    "        if event.type == pygame.QUIT:\n",
    "            pygame.quit()\n",
    "            exit()    \n",
    "    \n",
    "    tmp_gState = np.copy(gState)\n",
    "    \n",
    "    event = pygame.event.get()\n",
    "    for e in event:\n",
    "        if e.type == pygame.KEYDOWN:\n",
    "            pause = not pause\n",
    "        mouseClick = pygame.mouse.get_pressed()\n",
    "        if sum(mouseClick) > 0:\n",
    "            posMx, posMy = pygame.mouse.get_pos()\n",
    "            cellMx, cellMy = int(np.floor(posMx / dimCellW)), int(np.floor(posMy / dimCellH))\n",
    "            tmp_gState[cellMx, cellMy] = not mouseClick[2]\n",
    "    \n",
    "    for x in range(nxCells):\n",
    "\n",
    "        if not pause:\n",
    "            ruleIndx = 4 * gState[(x - 1) % nxCells, y] + 2 * gState[x, y] + gState[(x + 1) % nxCells, y]\n",
    "            tmp_gState[x, (y + 1) % nyCells] = rules[int(ruleIndx)]\n",
    "\n",
    "        poly = [(x * dimCellW, y * dimCellH),\n",
    "                ((x + 1) * dimCellW, y * dimCellH),\n",
    "                ((x + 1) * dimCellW, (y + 1) * dimCellH),\n",
    "                (x * dimCellW, (y + 1) * dimCellH)]\n",
    "\n",
    "        if tmp_gState[x, y] == 1:\n",
    "            pygame.draw.polygon(screen, (120, 120, 120), poly, 0)\n",
    "    if not pause:\n",
    "        y = (y + 1) % nyCells\n",
    "        \n",
    "    time.sleep(0.1)\n",
    "    gState = np.copy(tmp_gState)\n",
    "    pygame.display.flip()"
   ]
  },
  {
   "cell_type": "code",
   "execution_count": null,
   "metadata": {},
   "outputs": [],
   "source": []
  }
 ],
 "metadata": {
  "kernelspec": {
   "display_name": "Python 3",
   "language": "python",
   "name": "python3"
  },
  "language_info": {
   "codemirror_mode": {
    "name": "ipython",
    "version": 3
   },
   "file_extension": ".py",
   "mimetype": "text/x-python",
   "name": "python",
   "nbconvert_exporter": "python",
   "pygments_lexer": "ipython3",
   "version": "3.7.6"
  }
 },
 "nbformat": 4,
 "nbformat_minor": 4
}

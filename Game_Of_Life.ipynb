{
 "cells": [
  {
   "cell_type": "markdown",
   "metadata": {},
   "source": [
    "# Game of Life\n",
    "\n",
    "The **Game of Life** is not a regular computer game, due to the desing based on a *Cellular Automaton* behaviour. The game was first desinged by the Cambridge mathematician John Conway. The game consists of a 2D grid that, based on only two rules, can be filled with *alive* or *dead* cells. Depending on the initial conditions of the game, the cells can multiply making different patterns. Some of the most interesting patterns are the so called *\"moving cellular automatons\"*, wich are patterns that can rotate or move throughout the board.\n",
    "\n",
    "This notebook is going to show a basic user-interactive version of the **Game of Life**. Once the game is started, you can draw (make a cell become *alive*), delete (*kill* a *living* cell) or stop the game.\n",
    "\n",
    "For the visualization of the game, the *pygame* package is used. *Numpy* is used for some math functions an the *time* package is used for an easier visualization of the time-related aspects of the game."
   ]
  },
  {
   "cell_type": "code",
   "execution_count": 4,
   "metadata": {},
   "outputs": [],
   "source": [
    "# Import of the needed packages.\n",
    "import pygame\n",
    "import numpy as np\n",
    "import time"
   ]
  },
  {
   "cell_type": "markdown",
   "metadata": {},
   "source": [
    "## Parameters\n",
    "\n",
    "The parameters for the game include the size of the window and the amount of cells in each direction."
   ]
  },
  {
   "cell_type": "code",
   "execution_count": 5,
   "metadata": {},
   "outputs": [],
   "source": [
    "# Definition of parameters for the game.\n",
    "size = width, height = 1000, 1000\n",
    "bgColor = 25, 25, 25\n",
    "nxCells = 100\n",
    "nyCells = 100\n",
    "dimCellW = (width -1 ) / nxCells\n",
    "dimCellH = (height - 1) / nyCells"
   ]
  },
  {
   "cell_type": "markdown",
   "metadata": {},
   "source": [
    "## Body of the Code\n",
    "\n",
    "The code consists of an infinite loop that creates a copy of *\"the current state of the game\"* and evaluates the evolution of the system in the copied state. When all the cells are evaluated, the system evolves making the copy the new *\"current state of the game\"* and making the corresponding visualization.\n",
    "\n",
    "Also, some basic user-interactive functions are implemented to make the game stop or to draw and delete in the board."
   ]
  },
  {
   "cell_type": "code",
   "execution_count": null,
   "metadata": {},
   "outputs": [],
   "source": [
    "# Body of the code.\n",
    "\n",
    "# Game window start.\n",
    "pygame.init()\n",
    "screen = pygame.display.set_mode(size)\n",
    "screen.fill(bgColor)\n",
    "\n",
    "# Game state initial conditions.\n",
    "gState = np.zeros((nxCells, nyCells))\n",
    "\n",
    "# The game is initialy starts with a self-moving automaton.\n",
    "gState[21, 21] = 1\n",
    "gState[22, 22] = 1\n",
    "gState[22, 23] = 1\n",
    "gState[21, 23] = 1\n",
    "gState[20, 23] = 1\n",
    "\n",
    "# The game starts paused.\n",
    "pause = True\n",
    "\n",
    "# Infinite loop for the visualization of the game.\n",
    "while 1:\n",
    "    \n",
    "    # Temporal game state for the evaluation of the rules\n",
    "    tmp_gState = np.copy(gState)\n",
    "    screen.fill(bgColor)\n",
    "    time.sleep(0.1)\n",
    "    \n",
    "    # The user-interaction part of the game\n",
    "    event = pygame.event.get()\n",
    "    for e in event:\n",
    "        # Conditional for the pause of the game\n",
    "        if e.type == pygame.KEYDOWN:\n",
    "            pause = not pause\n",
    "        # Detection of the mouse commands and their uses\n",
    "        mouseClick = pygame.mouse.get_pressed()\n",
    "        if sum(mouseClick) > 0:\n",
    "            posMx, posMy = pygame.mouse.get_pos()\n",
    "            cellMx, cellMy = int(np.floor(posMx / dimCellW)), int(np.floor(posMy / dimCellH))\n",
    "            tmp_gState[cellMx, cellMy] = not mouseClick[2]\n",
    "    \n",
    "    # Loop made for the evolution of the system acording to the rules.\n",
    "    for y in range(nyCells):\n",
    "        for x in range(nxCells):\n",
    "            if not pause:\n",
    "                # Detection of the state of the surrounding cells.\n",
    "                nNeigh = gState[(x - 1) % nxCells, (y - 1) % nyCells] + \\\n",
    "                         gState[(x - 1) % nxCells, y % nyCells] + \\\n",
    "                         gState[(x - 1) % nxCells, (y + 1) % nyCells] + \\\n",
    "                         gState[x % nxCells, (y - 1) % nyCells] + \\\n",
    "                         gState[x % nxCells, (y + 1) % nyCells] + \\\n",
    "                         gState[(x + 1) % nxCells, (y - 1) % nyCells] + \\\n",
    "                         gState[(x + 1) % nxCells, y % nyCells] + \\\n",
    "                         gState[(x + 1) % nxCells, (y + 1) % nyCells]\n",
    "\n",
    "                ## rules for the Game of Life\n",
    "                if gState[x, y] == 0 and nNeigh == 3:\n",
    "                    tmp_gState[x, y] = 1\n",
    "                elif gState[x, y] == 1 and (nNeigh < 2 or nNeigh > 3):\n",
    "                    tmp_gState[x, y] = 0\n",
    "                     \n",
    "            # Corners of the current cell\n",
    "            poly = [(x * dimCellW, y * dimCellH),\n",
    "                    ((x + 1) * dimCellW, y * dimCellH),\n",
    "                    ((x + 1) * dimCellW, (y + 1) * dimCellH),\n",
    "                    (x * dimCellW, (y + 1) * dimCellH)]\n",
    "            # Drawing of the cells\n",
    "            pygame.draw.polygon(screen, (120, 120, 120), poly, int(abs(1 - tmp_gState[x, y])))\n",
    "    \n",
    "    gState = np.copy(tmp_gState)\n",
    "    pygame.display.flip()"
   ]
  }
 ],
 "metadata": {
  "kernelspec": {
   "display_name": "Python 3",
   "language": "python",
   "name": "python3"
  },
  "language_info": {
   "codemirror_mode": {
    "name": "ipython",
    "version": 3
   },
   "file_extension": ".py",
   "mimetype": "text/x-python",
   "name": "python",
   "nbconvert_exporter": "python",
   "pygments_lexer": "ipython3",
   "version": "3.7.6"
  }
 },
 "nbformat": 4,
 "nbformat_minor": 4
}
